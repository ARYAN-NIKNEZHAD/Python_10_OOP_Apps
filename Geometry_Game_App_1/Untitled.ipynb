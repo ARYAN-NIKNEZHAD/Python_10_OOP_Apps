{
 "cells": [
  {
   "cell_type": "code",
   "execution_count": 1,
   "id": "247b0843",
   "metadata": {},
   "outputs": [],
   "source": [
    "import folium"
   ]
  },
  {
   "cell_type": "code",
   "execution_count": 8,
   "id": "baec11b1",
   "metadata": {},
   "outputs": [],
   "source": [
    "azores = folium.folium.Map(location=(51.2993, 9.491), zoom_start=10).save(\"out_put.html\")"
   ]
  },
  {
   "cell_type": "code",
   "execution_count": 12,
   "id": "cfbe7695",
   "metadata": {},
   "outputs": [],
   "source": [
    "azores"
   ]
  },
  {
   "cell_type": "code",
   "execution_count": null,
   "id": "c3eacf22",
   "metadata": {},
   "outputs": [],
   "source": []
  }
 ],
 "metadata": {
  "kernelspec": {
   "display_name": "Python 3 (ipykernel)",
   "language": "python",
   "name": "python3"
  },
  "language_info": {
   "codemirror_mode": {
    "name": "ipython",
    "version": 3
   },
   "file_extension": ".py",
   "mimetype": "text/x-python",
   "name": "python",
   "nbconvert_exporter": "python",
   "pygments_lexer": "ipython3",
   "version": "3.9.13"
  }
 },
 "nbformat": 4,
 "nbformat_minor": 5
}
