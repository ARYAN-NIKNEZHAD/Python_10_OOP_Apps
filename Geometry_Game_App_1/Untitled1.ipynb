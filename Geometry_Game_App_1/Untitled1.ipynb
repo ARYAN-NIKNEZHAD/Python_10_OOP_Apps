{
 "cells": [
  {
   "cell_type": "code",
   "execution_count": 4,
   "id": "0c3f41eb",
   "metadata": {},
   "outputs": [],
   "source": [
    "class Point:\n",
    "    \n",
    "    def __init__(self, x, y):\n",
    "        self.x = x\n",
    "        self.y = y\n",
    "        \n",
    "    def falls_in_rectangle(self, lowleft, upright):\n",
    "        if lowleft[0] < self.x < upright[0] and lowleft[1] < self.y < upright[1]:\n",
    "            return True\n",
    "        else:\n",
    "            return False\n",
    "    def distance_from_point(self, point):\n",
    "        return ((self.x - point.x)**2 + (self.y - point.y)**2) ** 0.5\n"
   ]
  },
  {
   "cell_type": "code",
   "execution_count": 6,
   "id": "084e168f",
   "metadata": {},
   "outputs": [],
   "source": [
    "point1 = Point(10, 20)\n",
    "point2 = Point(4, 5)"
   ]
  },
  {
   "cell_type": "code",
   "execution_count": 7,
   "id": "1925d6ca",
   "metadata": {},
   "outputs": [
    {
     "data": {
      "text/plain": [
       "16.15549442140351"
      ]
     },
     "execution_count": 7,
     "metadata": {},
     "output_type": "execute_result"
    }
   ],
   "source": [
    "point1.distance_from_point(point2)"
   ]
  },
  {
   "cell_type": "code",
   "execution_count": 8,
   "id": "ecfa8101",
   "metadata": {},
   "outputs": [
    {
     "data": {
      "text/plain": [
       "False"
      ]
     },
     "execution_count": 8,
     "metadata": {},
     "output_type": "execute_result"
    }
   ],
   "source": [
    "point1.falls_in_rectangle((5, 6), (7, 9))"
   ]
  },
  {
   "cell_type": "code",
   "execution_count": 9,
   "id": "f830d747",
   "metadata": {},
   "outputs": [
    {
     "data": {
      "text/plain": [
       "True"
      ]
     },
     "execution_count": 9,
     "metadata": {},
     "output_type": "execute_result"
    }
   ],
   "source": [
    "Point(3, 4).falls_in_rectangle((1, 1), (6, 6))"
   ]
  },
  {
   "cell_type": "code",
   "execution_count": null,
   "id": "0540147a",
   "metadata": {},
   "outputs": [],
   "source": []
  }
 ],
 "metadata": {
  "kernelspec": {
   "display_name": "Python 3 (ipykernel)",
   "language": "python",
   "name": "python3"
  },
  "language_info": {
   "codemirror_mode": {
    "name": "ipython",
    "version": 3
   },
   "file_extension": ".py",
   "mimetype": "text/x-python",
   "name": "python",
   "nbconvert_exporter": "python",
   "pygments_lexer": "ipython3",
   "version": "3.9.13"
  }
 },
 "nbformat": 4,
 "nbformat_minor": 5
}
