{
 "cells": [
  {
   "cell_type": "code",
   "execution_count": 1,
   "id": "3967a6e7",
   "metadata": {},
   "outputs": [],
   "source": [
    "class Point:\n",
    "    \n",
    "    def __init__(self, x, y):\n",
    "        self.x = x\n",
    "        self.y = y"
   ]
  },
  {
   "cell_type": "code",
   "execution_count": 2,
   "id": "8694897d",
   "metadata": {},
   "outputs": [],
   "source": [
    "point1 = Point(10, 20)\n",
    "point2 = Point(11, 21)\n",
    "point3 = Point(12, 22)\n",
    "point4 = Point(13, 23)"
   ]
  },
  {
   "cell_type": "code",
   "execution_count": 7,
   "id": "6a5ab8f0",
   "metadata": {},
   "outputs": [
    {
     "data": {
      "text/plain": [
       "IPv4Address('1.1.1.1')"
      ]
     },
     "execution_count": 7,
     "metadata": {},
     "output_type": "execute_result"
    }
   ],
   "source": [
    "import ipaddress\n",
    "myip = ipaddress.IPv4Address(\"1.1.1.1\")\n",
    "myip"
   ]
  },
  {
   "cell_type": "code",
   "execution_count": 8,
   "id": "cfb19477",
   "metadata": {},
   "outputs": [
    {
     "data": {
      "text/plain": [
       "ipaddress.IPv4Address"
      ]
     },
     "execution_count": 8,
     "metadata": {},
     "output_type": "execute_result"
    }
   ],
   "source": [
    "type(myip)"
   ]
  },
  {
   "cell_type": "code",
   "execution_count": null,
   "id": "84b9b51f",
   "metadata": {},
   "outputs": [],
   "source": []
  }
 ],
 "metadata": {
  "kernelspec": {
   "display_name": "Python 3 (ipykernel)",
   "language": "python",
   "name": "python3"
  },
  "language_info": {
   "codemirror_mode": {
    "name": "ipython",
    "version": 3
   },
   "file_extension": ".py",
   "mimetype": "text/x-python",
   "name": "python",
   "nbconvert_exporter": "python",
   "pygments_lexer": "ipython3",
   "version": "3.9.13"
  }
 },
 "nbformat": 4,
 "nbformat_minor": 5
}
