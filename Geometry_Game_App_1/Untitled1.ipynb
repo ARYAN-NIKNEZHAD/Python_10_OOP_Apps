{
 "cells": [
  {
   "cell_type": "code",
   "execution_count": 1,
   "id": "0c3f41eb",
   "metadata": {},
   "outputs": [
    {
     "name": "stdout",
     "output_type": "stream",
     "text": [
      "Rectangle Coordinates:  6 , 1 and 12 , 11\n",
      "Guess x: 6\n",
      "Guess y: 6\n",
      "Guess rectangle area: 30\n",
      "Your point was inside rectangle:  False\n",
      "Your area was off by:  30.0\n"
     ]
    }
   ],
   "source": [
    "from random import randint\n",
    "\n",
    "class Point:\n",
    "\n",
    "    def __init__(self, x, y):\n",
    "        self.x = x\n",
    "        self.y = y\n",
    "\n",
    "    def falls_in_rectangle(self, rectangle):\n",
    "        if rectangle.point1.x < self.x < rectangle.point2.x \\\n",
    "                and rectangle.point1.y < self.y < rectangle.point2.y:\n",
    "            return True\n",
    "        else:\n",
    "            return False\n",
    "\n",
    "\n",
    "class Rectangle:\n",
    "\n",
    "    def __init__(self, point1, point2):\n",
    "        self.point1 = point1\n",
    "        self.point2 = point2\n",
    "\n",
    "    def area(self):\n",
    "        return (self.point2.x - self.point1.x) * \\\n",
    "               (self.point2.y - self.point1.y)\n",
    "\n",
    "\n",
    "# Create rectangle object\n",
    "rectangle = Rectangle(Point(randint(0, 9), randint(0, 9)), \n",
    "              Point(randint(10, 19), randint(10, 19)))\n",
    "\n",
    "# Print rectangle coordinates\n",
    "print(\"Rectangle Coordinates: \",\n",
    "      rectangle.point1.x, \",\",\n",
    "      rectangle.point1.y, \"and\",\n",
    "      rectangle.point2.x, \",\",\n",
    "      rectangle.point2.y)\n",
    "\n",
    "# Get point and area from user\n",
    "user_point = Point(float(input(\"Guess x: \")), float(input(\"Guess y: \")))\n",
    "user_area = float(input(\"Guess rectangle area: \"))\n",
    "\n",
    "# Print out the game result\n",
    "print(\"Your point was inside rectangle: \", user_point.falls_in_rectangle(rectangle))\n",
    "print(\"Your area was off by: \", rectangle.area() - user_area)"
   ]
  },
  {
   "cell_type": "code",
   "execution_count": null,
   "id": "200fd56f",
   "metadata": {},
   "outputs": [],
   "source": []
  }
 ],
 "metadata": {
  "kernelspec": {
   "display_name": "Python 3 (ipykernel)",
   "language": "python",
   "name": "python3"
  },
  "language_info": {
   "codemirror_mode": {
    "name": "ipython",
    "version": 3
   },
   "file_extension": ".py",
   "mimetype": "text/x-python",
   "name": "python",
   "nbconvert_exporter": "python",
   "pygments_lexer": "ipython3",
   "version": "3.9.13"
  }
 },
 "nbformat": 4,
 "nbformat_minor": 5
}
