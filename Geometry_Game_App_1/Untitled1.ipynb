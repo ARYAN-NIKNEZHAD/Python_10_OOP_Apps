{
 "cells": [
  {
   "cell_type": "code",
   "execution_count": 28,
   "id": "0c3f41eb",
   "metadata": {},
   "outputs": [],
   "source": [
    "class Point:\n",
    "    \n",
    "    def __init__(self, x, y):\n",
    "        self.x = x\n",
    "        self.y = y\n",
    "        \n",
    "    def falls_in_rectangle(self, rectangle):\n",
    "        if rectangle.lowleft.x < self.x < rectangle.upright.x and rectangle.lowleft.y < self.y < rectangle.upright.y:\n",
    "            return True\n",
    "        else:\n",
    "            return False\n",
    "    def distance_from_point(self, point):\n",
    "        return ((self.x - point.x)**2 + (self.y - point.y)**2) ** 0.5\n"
   ]
  },
  {
   "cell_type": "code",
   "execution_count": 40,
   "id": "370fa8c0",
   "metadata": {},
   "outputs": [],
   "source": [
    "class Rectangle:\n",
    "    \n",
    "    def __init__(self, lowleft, upright):\n",
    "        self.lowleft = lowleft\n",
    "        self.upright = upright\n",
    "    "
   ]
  },
  {
   "cell_type": "code",
   "execution_count": 41,
   "id": "eb12eacb",
   "metadata": {},
   "outputs": [],
   "source": [
    "from random import randint\n",
    "rectangle = Rectangle(\n",
    "    Point(randint(0, 9), randint(0, 9)),\n",
    "    Point(randint(10, 19), randint(10, 19)))"
   ]
  },
  {
   "cell_type": "code",
   "execution_count": 42,
   "id": "60ab5088",
   "metadata": {},
   "outputs": [
    {
     "name": "stdout",
     "output_type": "stream",
     "text": [
      "Rectangle Coordinates :3, 2 and 16, 16\n",
      "Guess X: 7\n",
      "Guess Y: 8\n",
      "Your point was inside rectangle:  True\n"
     ]
    }
   ],
   "source": [
    "print(f\"Rectangle Coordinates :{rectangle.lowleft.x}, {rectangle.lowleft.y} and {rectangle.upright.x}, {rectangle.upright.y}\")\n",
    "\n",
    "user_point = Point(float(input(\"Guess X: \")),\n",
    "                   float(input(\"Guess Y: \")))\n",
    "\n",
    "print(\"Your point was inside rectangle: \",\n",
    "     user_point.falls_in_rectangle(rectangle))"
   ]
  },
  {
   "cell_type": "code",
   "execution_count": 30,
   "id": "084e168f",
   "metadata": {},
   "outputs": [],
   "source": [
    "point1 = Point(10, 20)\n",
    "point2 = Point(4, 5)"
   ]
  },
  {
   "cell_type": "code",
   "execution_count": 31,
   "id": "0275c2a0",
   "metadata": {},
   "outputs": [
    {
     "data": {
      "text/plain": [
       "16.15549442140351"
      ]
     },
     "execution_count": 31,
     "metadata": {},
     "output_type": "execute_result"
    }
   ],
   "source": [
    "point1.distance_from_point(point2)"
   ]
  },
  {
   "cell_type": "code",
   "execution_count": 32,
   "id": "0540147a",
   "metadata": {},
   "outputs": [],
   "source": [
    "rectangle = Rectangle(Point(5, 6), Point(7, 9))"
   ]
  },
  {
   "cell_type": "code",
   "execution_count": 33,
   "id": "4edcbffa",
   "metadata": {},
   "outputs": [
    {
     "data": {
      "text/plain": [
       "False"
      ]
     },
     "execution_count": 33,
     "metadata": {},
     "output_type": "execute_result"
    }
   ],
   "source": [
    "point1.falls_in_rectangle(rectangle)"
   ]
  },
  {
   "cell_type": "code",
   "execution_count": null,
   "id": "7d3dc56c",
   "metadata": {},
   "outputs": [],
   "source": []
  }
 ],
 "metadata": {
  "kernelspec": {
   "display_name": "Python 3 (ipykernel)",
   "language": "python",
   "name": "python3"
  },
  "language_info": {
   "codemirror_mode": {
    "name": "ipython",
    "version": 3
   },
   "file_extension": ".py",
   "mimetype": "text/x-python",
   "name": "python",
   "nbconvert_exporter": "python",
   "pygments_lexer": "ipython3",
   "version": "3.9.13"
  }
 },
 "nbformat": 4,
 "nbformat_minor": 5
}
