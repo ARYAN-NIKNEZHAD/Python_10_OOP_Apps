{
 "cells": [
  {
   "cell_type": "code",
   "execution_count": 21,
   "id": "d688a1fe",
   "metadata": {},
   "outputs": [],
   "source": [
    "class Point:\n",
    "    \n",
    "    def __init__(self, x, y):\n",
    "        self.x = x\n",
    "        self.y = y\n",
    "        \n",
    "    def falls_in_rectangle(self, lowleft, upright):\n",
    "        if lowleft[0] < self.x < upright[0] and lowleft[1] < self.y < upright[1]:\n",
    "            return True\n",
    "        else:\n",
    "            return False\n"
   ]
  },
  {
   "cell_type": "code",
   "execution_count": 22,
   "id": "15bd5fe0",
   "metadata": {},
   "outputs": [],
   "source": [
    "point1 = Point(10, 20)"
   ]
  },
  {
   "cell_type": "code",
   "execution_count": 23,
   "id": "8933a9b5",
   "metadata": {},
   "outputs": [
    {
     "data": {
      "text/plain": [
       "False"
      ]
     },
     "execution_count": 23,
     "metadata": {},
     "output_type": "execute_result"
    }
   ],
   "source": [
    "point1.falls_in_rectangle((5, 6), (7, 9))"
   ]
  },
  {
   "cell_type": "code",
   "execution_count": 24,
   "id": "3ca94611",
   "metadata": {},
   "outputs": [
    {
     "data": {
      "text/plain": [
       "True"
      ]
     },
     "execution_count": 24,
     "metadata": {},
     "output_type": "execute_result"
    }
   ],
   "source": [
    "Point(3, 4).falls_in_rectangle((1, 1), (6, 6))"
   ]
  },
  {
   "cell_type": "code",
   "execution_count": null,
   "id": "270fdf79",
   "metadata": {},
   "outputs": [],
   "source": []
  }
 ],
 "metadata": {
  "kernelspec": {
   "display_name": "Python 3 (ipykernel)",
   "language": "python",
   "name": "python3"
  },
  "language_info": {
   "codemirror_mode": {
    "name": "ipython",
    "version": 3
   },
   "file_extension": ".py",
   "mimetype": "text/x-python",
   "name": "python",
   "nbconvert_exporter": "python",
   "pygments_lexer": "ipython3",
   "version": "3.9.13"
  }
 },
 "nbformat": 4,
 "nbformat_minor": 5
}
